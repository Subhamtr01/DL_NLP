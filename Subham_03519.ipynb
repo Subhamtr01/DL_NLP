{
  "nbformat": 4,
  "nbformat_minor": 0,
  "metadata": {
    "colab": {
      "provenance": [],
      "authorship_tag": "ABX9TyNNqG+uEjSHvprvsqUFfqQq",
      "include_colab_link": true
    },
    "kernelspec": {
      "name": "python3",
      "display_name": "Python 3"
    },
    "language_info": {
      "name": "python"
    }
  },
  "cells": [
    {
      "cell_type": "markdown",
      "metadata": {
        "id": "view-in-github",
        "colab_type": "text"
      },
      "source": [
        "<a href=\"https://colab.research.google.com/github/Subhamtr01/DL_NLP/blob/main/Subham_03519.ipynb\" target=\"_parent\"><img src=\"https://colab.research.google.com/assets/colab-badge.svg\" alt=\"Open In Colab\"/></a>"
      ]
    },
    {
      "cell_type": "code",
      "execution_count": null,
      "metadata": {
        "id": "d6nMPlpYj-8A"
      },
      "outputs": [],
      "source": [
        "import pandas as pd"
      ]
    },
    {
      "cell_type": "code",
      "source": [
        "from sklearn.preprocessing import StandardScaler, MinMaxScaler\n",
        "from sklearn.preprocessing import LabelEncoder, OneHotEncoder\n",
        "from sklearn.model_selection import train_test_split"
      ],
      "metadata": {
        "id": "-ZLztRnMkml0"
      },
      "execution_count": null,
      "outputs": []
    },
    {
      "cell_type": "code",
      "source": [
        "import tensorflow as tf"
      ],
      "metadata": {
        "id": "QdZmexJzkpUb"
      },
      "execution_count": null,
      "outputs": []
    },
    {
      "cell_type": "code",
      "source": [
        "from IPython.core.interactiveshell import InteractiveShell\n",
        "InteractiveShell.ast_node_interactivity = \"all\""
      ],
      "metadata": {
        "id": "PKiyAPkOksLT"
      },
      "execution_count": null,
      "outputs": []
    },
    {
      "cell_type": "code",
      "source": [
        "from google.colab import drive\n",
        "drive.mount('/gdrive')"
      ],
      "metadata": {
        "colab": {
          "base_uri": "https://localhost:8080/"
        },
        "id": "oS8Mm1qRkvQL",
        "outputId": "1d764c5a-2c4d-4363-b05e-57cdc2dae946"
      },
      "execution_count": null,
      "outputs": [
        {
          "output_type": "stream",
          "name": "stdout",
          "text": [
            "Drive already mounted at /gdrive; to attempt to forcibly remount, call drive.mount(\"/gdrive\", force_remount=True).\n"
          ]
        }
      ]
    },
    {
      "cell_type": "code",
      "source": [
        "path = \"/content/sample_data/\""
      ],
      "metadata": {
        "id": "FULJxIG1k3Ia"
      },
      "execution_count": null,
      "outputs": []
    },
    {
      "cell_type": "code",
      "source": [
        "data = pd.read_csv(path + \"california_housing_train.csv\")"
      ],
      "metadata": {
        "id": "VKlJmVH9k_xK"
      },
      "execution_count": null,
      "outputs": []
    },
    {
      "cell_type": "code",
      "source": [
        "data.head()"
      ],
      "metadata": {
        "colab": {
          "base_uri": "https://localhost:8080/",
          "height": 270
        },
        "id": "H-VyvFk5l2Sr",
        "outputId": "d8868612-e679-4f06-8f63-b14f0a43df03"
      },
      "execution_count": null,
      "outputs": [
        {
          "output_type": "execute_result",
          "data": {
            "text/plain": [
              "   longitude  latitude  housing_median_age  total_rooms  total_bedrooms  \\\n",
              "0    -114.31     34.19                15.0       5612.0          1283.0   \n",
              "1    -114.47     34.40                19.0       7650.0          1901.0   \n",
              "2    -114.56     33.69                17.0        720.0           174.0   \n",
              "3    -114.57     33.64                14.0       1501.0           337.0   \n",
              "4    -114.57     33.57                20.0       1454.0           326.0   \n",
              "\n",
              "   population  households  median_income  median_house_value  \n",
              "0      1015.0       472.0         1.4936             66900.0  \n",
              "1      1129.0       463.0         1.8200             80100.0  \n",
              "2       333.0       117.0         1.6509             85700.0  \n",
              "3       515.0       226.0         3.1917             73400.0  \n",
              "4       624.0       262.0         1.9250             65500.0  "
            ],
            "text/html": [
              "\n",
              "\n",
              "  <div id=\"df-064da4ab-74c0-4a08-9c41-c4da80d7758c\">\n",
              "    <div class=\"colab-df-container\">\n",
              "      <div>\n",
              "<style scoped>\n",
              "    .dataframe tbody tr th:only-of-type {\n",
              "        vertical-align: middle;\n",
              "    }\n",
              "\n",
              "    .dataframe tbody tr th {\n",
              "        vertical-align: top;\n",
              "    }\n",
              "\n",
              "    .dataframe thead th {\n",
              "        text-align: right;\n",
              "    }\n",
              "</style>\n",
              "<table border=\"1\" class=\"dataframe\">\n",
              "  <thead>\n",
              "    <tr style=\"text-align: right;\">\n",
              "      <th></th>\n",
              "      <th>longitude</th>\n",
              "      <th>latitude</th>\n",
              "      <th>housing_median_age</th>\n",
              "      <th>total_rooms</th>\n",
              "      <th>total_bedrooms</th>\n",
              "      <th>population</th>\n",
              "      <th>households</th>\n",
              "      <th>median_income</th>\n",
              "      <th>median_house_value</th>\n",
              "    </tr>\n",
              "  </thead>\n",
              "  <tbody>\n",
              "    <tr>\n",
              "      <th>0</th>\n",
              "      <td>-114.31</td>\n",
              "      <td>34.19</td>\n",
              "      <td>15.0</td>\n",
              "      <td>5612.0</td>\n",
              "      <td>1283.0</td>\n",
              "      <td>1015.0</td>\n",
              "      <td>472.0</td>\n",
              "      <td>1.4936</td>\n",
              "      <td>66900.0</td>\n",
              "    </tr>\n",
              "    <tr>\n",
              "      <th>1</th>\n",
              "      <td>-114.47</td>\n",
              "      <td>34.40</td>\n",
              "      <td>19.0</td>\n",
              "      <td>7650.0</td>\n",
              "      <td>1901.0</td>\n",
              "      <td>1129.0</td>\n",
              "      <td>463.0</td>\n",
              "      <td>1.8200</td>\n",
              "      <td>80100.0</td>\n",
              "    </tr>\n",
              "    <tr>\n",
              "      <th>2</th>\n",
              "      <td>-114.56</td>\n",
              "      <td>33.69</td>\n",
              "      <td>17.0</td>\n",
              "      <td>720.0</td>\n",
              "      <td>174.0</td>\n",
              "      <td>333.0</td>\n",
              "      <td>117.0</td>\n",
              "      <td>1.6509</td>\n",
              "      <td>85700.0</td>\n",
              "    </tr>\n",
              "    <tr>\n",
              "      <th>3</th>\n",
              "      <td>-114.57</td>\n",
              "      <td>33.64</td>\n",
              "      <td>14.0</td>\n",
              "      <td>1501.0</td>\n",
              "      <td>337.0</td>\n",
              "      <td>515.0</td>\n",
              "      <td>226.0</td>\n",
              "      <td>3.1917</td>\n",
              "      <td>73400.0</td>\n",
              "    </tr>\n",
              "    <tr>\n",
              "      <th>4</th>\n",
              "      <td>-114.57</td>\n",
              "      <td>33.57</td>\n",
              "      <td>20.0</td>\n",
              "      <td>1454.0</td>\n",
              "      <td>326.0</td>\n",
              "      <td>624.0</td>\n",
              "      <td>262.0</td>\n",
              "      <td>1.9250</td>\n",
              "      <td>65500.0</td>\n",
              "    </tr>\n",
              "  </tbody>\n",
              "</table>\n",
              "</div>\n",
              "      <button class=\"colab-df-convert\" onclick=\"convertToInteractive('df-064da4ab-74c0-4a08-9c41-c4da80d7758c')\"\n",
              "              title=\"Convert this dataframe to an interactive table.\"\n",
              "              style=\"display:none;\">\n",
              "\n",
              "  <svg xmlns=\"http://www.w3.org/2000/svg\" height=\"24px\"viewBox=\"0 0 24 24\"\n",
              "       width=\"24px\">\n",
              "    <path d=\"M0 0h24v24H0V0z\" fill=\"none\"/>\n",
              "    <path d=\"M18.56 5.44l.94 2.06.94-2.06 2.06-.94-2.06-.94-.94-2.06-.94 2.06-2.06.94zm-11 1L8.5 8.5l.94-2.06 2.06-.94-2.06-.94L8.5 2.5l-.94 2.06-2.06.94zm10 10l.94 2.06.94-2.06 2.06-.94-2.06-.94-.94-2.06-.94 2.06-2.06.94z\"/><path d=\"M17.41 7.96l-1.37-1.37c-.4-.4-.92-.59-1.43-.59-.52 0-1.04.2-1.43.59L10.3 9.45l-7.72 7.72c-.78.78-.78 2.05 0 2.83L4 21.41c.39.39.9.59 1.41.59.51 0 1.02-.2 1.41-.59l7.78-7.78 2.81-2.81c.8-.78.8-2.07 0-2.86zM5.41 20L4 18.59l7.72-7.72 1.47 1.35L5.41 20z\"/>\n",
              "  </svg>\n",
              "      </button>\n",
              "\n",
              "\n",
              "\n",
              "    <div id=\"df-bc757d3a-a420-4a4a-bbe5-515bbb437d05\">\n",
              "      <button class=\"colab-df-quickchart\" onclick=\"quickchart('df-bc757d3a-a420-4a4a-bbe5-515bbb437d05')\"\n",
              "              title=\"Suggest charts.\"\n",
              "              style=\"display:none;\">\n",
              "\n",
              "<svg xmlns=\"http://www.w3.org/2000/svg\" height=\"24px\"viewBox=\"0 0 24 24\"\n",
              "     width=\"24px\">\n",
              "    <g>\n",
              "        <path d=\"M19 3H5c-1.1 0-2 .9-2 2v14c0 1.1.9 2 2 2h14c1.1 0 2-.9 2-2V5c0-1.1-.9-2-2-2zM9 17H7v-7h2v7zm4 0h-2V7h2v10zm4 0h-2v-4h2v4z\"/>\n",
              "    </g>\n",
              "</svg>\n",
              "      </button>\n",
              "    </div>\n",
              "\n",
              "<style>\n",
              "  .colab-df-quickchart {\n",
              "    background-color: #E8F0FE;\n",
              "    border: none;\n",
              "    border-radius: 50%;\n",
              "    cursor: pointer;\n",
              "    display: none;\n",
              "    fill: #1967D2;\n",
              "    height: 32px;\n",
              "    padding: 0 0 0 0;\n",
              "    width: 32px;\n",
              "  }\n",
              "\n",
              "  .colab-df-quickchart:hover {\n",
              "    background-color: #E2EBFA;\n",
              "    box-shadow: 0px 1px 2px rgba(60, 64, 67, 0.3), 0px 1px 3px 1px rgba(60, 64, 67, 0.15);\n",
              "    fill: #174EA6;\n",
              "  }\n",
              "\n",
              "  [theme=dark] .colab-df-quickchart {\n",
              "    background-color: #3B4455;\n",
              "    fill: #D2E3FC;\n",
              "  }\n",
              "\n",
              "  [theme=dark] .colab-df-quickchart:hover {\n",
              "    background-color: #434B5C;\n",
              "    box-shadow: 0px 1px 3px 1px rgba(0, 0, 0, 0.15);\n",
              "    filter: drop-shadow(0px 1px 2px rgba(0, 0, 0, 0.3));\n",
              "    fill: #FFFFFF;\n",
              "  }\n",
              "</style>\n",
              "\n",
              "    <script>\n",
              "      async function quickchart(key) {\n",
              "        const containerElement = document.querySelector('#' + key);\n",
              "        const charts = await google.colab.kernel.invokeFunction(\n",
              "            'suggestCharts', [key], {});\n",
              "      }\n",
              "    </script>\n",
              "\n",
              "      <script>\n",
              "\n",
              "function displayQuickchartButton(domScope) {\n",
              "  let quickchartButtonEl =\n",
              "    domScope.querySelector('#df-bc757d3a-a420-4a4a-bbe5-515bbb437d05 button.colab-df-quickchart');\n",
              "  quickchartButtonEl.style.display =\n",
              "    google.colab.kernel.accessAllowed ? 'block' : 'none';\n",
              "}\n",
              "\n",
              "        displayQuickchartButton(document);\n",
              "      </script>\n",
              "      <style>\n",
              "    .colab-df-container {\n",
              "      display:flex;\n",
              "      flex-wrap:wrap;\n",
              "      gap: 12px;\n",
              "    }\n",
              "\n",
              "    .colab-df-convert {\n",
              "      background-color: #E8F0FE;\n",
              "      border: none;\n",
              "      border-radius: 50%;\n",
              "      cursor: pointer;\n",
              "      display: none;\n",
              "      fill: #1967D2;\n",
              "      height: 32px;\n",
              "      padding: 0 0 0 0;\n",
              "      width: 32px;\n",
              "    }\n",
              "\n",
              "    .colab-df-convert:hover {\n",
              "      background-color: #E2EBFA;\n",
              "      box-shadow: 0px 1px 2px rgba(60, 64, 67, 0.3), 0px 1px 3px 1px rgba(60, 64, 67, 0.15);\n",
              "      fill: #174EA6;\n",
              "    }\n",
              "\n",
              "    [theme=dark] .colab-df-convert {\n",
              "      background-color: #3B4455;\n",
              "      fill: #D2E3FC;\n",
              "    }\n",
              "\n",
              "    [theme=dark] .colab-df-convert:hover {\n",
              "      background-color: #434B5C;\n",
              "      box-shadow: 0px 1px 3px 1px rgba(0, 0, 0, 0.15);\n",
              "      filter: drop-shadow(0px 1px 2px rgba(0, 0, 0, 0.3));\n",
              "      fill: #FFFFFF;\n",
              "    }\n",
              "  </style>\n",
              "\n",
              "      <script>\n",
              "        const buttonEl =\n",
              "          document.querySelector('#df-064da4ab-74c0-4a08-9c41-c4da80d7758c button.colab-df-convert');\n",
              "        buttonEl.style.display =\n",
              "          google.colab.kernel.accessAllowed ? 'block' : 'none';\n",
              "\n",
              "        async function convertToInteractive(key) {\n",
              "          const element = document.querySelector('#df-064da4ab-74c0-4a08-9c41-c4da80d7758c');\n",
              "          const dataTable =\n",
              "            await google.colab.kernel.invokeFunction('convertToInteractive',\n",
              "                                                     [key], {});\n",
              "          if (!dataTable) return;\n",
              "\n",
              "          const docLinkHtml = 'Like what you see? Visit the ' +\n",
              "            '<a target=\"_blank\" href=https://colab.research.google.com/notebooks/data_table.ipynb>data table notebook</a>'\n",
              "            + ' to learn more about interactive tables.';\n",
              "          element.innerHTML = '';\n",
              "          dataTable['output_type'] = 'display_data';\n",
              "          await google.colab.output.renderOutput(dataTable, element);\n",
              "          const docLink = document.createElement('div');\n",
              "          docLink.innerHTML = docLinkHtml;\n",
              "          element.appendChild(docLink);\n",
              "        }\n",
              "      </script>\n",
              "    </div>\n",
              "  </div>\n"
            ]
          },
          "metadata": {},
          "execution_count": 74
        }
      ]
    },
    {
      "cell_type": "code",
      "source": [
        "data.shape"
      ],
      "metadata": {
        "colab": {
          "base_uri": "https://localhost:8080/"
        },
        "id": "TcxkQyQsmCXy",
        "outputId": "4e065033-4ef5-47e5-f677-9466d33ea610"
      },
      "execution_count": null,
      "outputs": [
        {
          "output_type": "execute_result",
          "data": {
            "text/plain": [
              "(17000, 9)"
            ]
          },
          "metadata": {},
          "execution_count": 75
        }
      ]
    },
    {
      "cell_type": "code",
      "source": [
        "data.info"
      ],
      "metadata": {
        "colab": {
          "base_uri": "https://localhost:8080/"
        },
        "id": "Lbo-vPmxmi7T",
        "outputId": "6cdca165-9677-45fd-fb16-f96b9a1aa266"
      },
      "execution_count": null,
      "outputs": [
        {
          "output_type": "execute_result",
          "data": {
            "text/plain": [
              "<bound method DataFrame.info of        longitude  latitude  housing_median_age  total_rooms  total_bedrooms  \\\n",
              "0        -114.31     34.19                15.0       5612.0          1283.0   \n",
              "1        -114.47     34.40                19.0       7650.0          1901.0   \n",
              "2        -114.56     33.69                17.0        720.0           174.0   \n",
              "3        -114.57     33.64                14.0       1501.0           337.0   \n",
              "4        -114.57     33.57                20.0       1454.0           326.0   \n",
              "...          ...       ...                 ...          ...             ...   \n",
              "16995    -124.26     40.58                52.0       2217.0           394.0   \n",
              "16996    -124.27     40.69                36.0       2349.0           528.0   \n",
              "16997    -124.30     41.84                17.0       2677.0           531.0   \n",
              "16998    -124.30     41.80                19.0       2672.0           552.0   \n",
              "16999    -124.35     40.54                52.0       1820.0           300.0   \n",
              "\n",
              "       population  households  median_income  median_house_value  \n",
              "0          1015.0       472.0         1.4936             66900.0  \n",
              "1          1129.0       463.0         1.8200             80100.0  \n",
              "2           333.0       117.0         1.6509             85700.0  \n",
              "3           515.0       226.0         3.1917             73400.0  \n",
              "4           624.0       262.0         1.9250             65500.0  \n",
              "...           ...         ...            ...                 ...  \n",
              "16995       907.0       369.0         2.3571            111400.0  \n",
              "16996      1194.0       465.0         2.5179             79000.0  \n",
              "16997      1244.0       456.0         3.0313            103600.0  \n",
              "16998      1298.0       478.0         1.9797             85800.0  \n",
              "16999       806.0       270.0         3.0147             94600.0  \n",
              "\n",
              "[17000 rows x 9 columns]>"
            ]
          },
          "metadata": {},
          "execution_count": 76
        }
      ]
    },
    {
      "cell_type": "code",
      "source": [],
      "metadata": {
        "id": "svU9uTEPmqsC"
      },
      "execution_count": null,
      "outputs": []
    },
    {
      "cell_type": "code",
      "source": [
        "data.isnull().sum()"
      ],
      "metadata": {
        "colab": {
          "base_uri": "https://localhost:8080/"
        },
        "id": "E5Cca2_gmCaC",
        "outputId": "2b2d6222-3dab-4d24-b9c8-05918c6dfe63"
      },
      "execution_count": null,
      "outputs": [
        {
          "output_type": "execute_result",
          "data": {
            "text/plain": [
              "longitude             0\n",
              "latitude              0\n",
              "housing_median_age    0\n",
              "total_rooms           0\n",
              "total_bedrooms        0\n",
              "population            0\n",
              "households            0\n",
              "median_income         0\n",
              "median_house_value    0\n",
              "dtype: int64"
            ]
          },
          "metadata": {},
          "execution_count": 77
        }
      ]
    },
    {
      "cell_type": "code",
      "source": [
        "y = data.pop('median_house_value')"
      ],
      "metadata": {
        "id": "5jDiLZZ5mCca"
      },
      "execution_count": null,
      "outputs": []
    },
    {
      "cell_type": "code",
      "source": [
        "data.shape"
      ],
      "metadata": {
        "colab": {
          "base_uri": "https://localhost:8080/"
        },
        "id": "bd-5IwyNmCei",
        "outputId": "cb4c393a-b6c3-4eac-9bcc-2d5a5413c754"
      },
      "execution_count": null,
      "outputs": [
        {
          "output_type": "execute_result",
          "data": {
            "text/plain": [
              "(17000, 8)"
            ]
          },
          "metadata": {},
          "execution_count": 79
        }
      ]
    },
    {
      "cell_type": "code",
      "source": [
        "data.isnull().sum()"
      ],
      "metadata": {
        "colab": {
          "base_uri": "https://localhost:8080/"
        },
        "id": "Coo13Wq5mCgK",
        "outputId": "505c403d-2cfe-4b7b-bb9d-ea1ecff9ab19"
      },
      "execution_count": null,
      "outputs": [
        {
          "output_type": "execute_result",
          "data": {
            "text/plain": [
              "longitude             0\n",
              "latitude              0\n",
              "housing_median_age    0\n",
              "total_rooms           0\n",
              "total_bedrooms        0\n",
              "population            0\n",
              "households            0\n",
              "median_income         0\n",
              "dtype: int64"
            ]
          },
          "metadata": {},
          "execution_count": 80
        }
      ]
    },
    {
      "cell_type": "code",
      "source": [
        "X_train,X_test, y_train,y_test = train_test_split(data, y, test_size = 0.25)"
      ],
      "metadata": {
        "id": "sd8ggX1rmChz"
      },
      "execution_count": null,
      "outputs": []
    },
    {
      "cell_type": "code",
      "source": [
        "X_train.shape\n",
        "X_test.shape"
      ],
      "metadata": {
        "colab": {
          "base_uri": "https://localhost:8080/"
        },
        "id": "kQxD6iH4m-Vb",
        "outputId": "9c604dcd-a028-46e0-c3e5-2644bc5bdb2e"
      },
      "execution_count": null,
      "outputs": [
        {
          "output_type": "execute_result",
          "data": {
            "text/plain": [
              "(12750, 8)"
            ]
          },
          "metadata": {},
          "execution_count": 82
        },
        {
          "output_type": "execute_result",
          "data": {
            "text/plain": [
              "(4250, 8)"
            ]
          },
          "metadata": {},
          "execution_count": 82
        }
      ]
    },
    {
      "cell_type": "code",
      "source": [
        "mm = MinMaxScaler()\n",
        "mm.fit(X_train)"
      ],
      "metadata": {
        "colab": {
          "base_uri": "https://localhost:8080/",
          "height": 75
        },
        "id": "gw9-DtTNm-YL",
        "outputId": "3e57bbdf-2852-40b0-984b-95e7b779b40f"
      },
      "execution_count": null,
      "outputs": [
        {
          "output_type": "execute_result",
          "data": {
            "text/plain": [
              "MinMaxScaler()"
            ],
            "text/html": [
              "<style>#sk-container-id-3 {color: black;background-color: white;}#sk-container-id-3 pre{padding: 0;}#sk-container-id-3 div.sk-toggleable {background-color: white;}#sk-container-id-3 label.sk-toggleable__label {cursor: pointer;display: block;width: 100%;margin-bottom: 0;padding: 0.3em;box-sizing: border-box;text-align: center;}#sk-container-id-3 label.sk-toggleable__label-arrow:before {content: \"▸\";float: left;margin-right: 0.25em;color: #696969;}#sk-container-id-3 label.sk-toggleable__label-arrow:hover:before {color: black;}#sk-container-id-3 div.sk-estimator:hover label.sk-toggleable__label-arrow:before {color: black;}#sk-container-id-3 div.sk-toggleable__content {max-height: 0;max-width: 0;overflow: hidden;text-align: left;background-color: #f0f8ff;}#sk-container-id-3 div.sk-toggleable__content pre {margin: 0.2em;color: black;border-radius: 0.25em;background-color: #f0f8ff;}#sk-container-id-3 input.sk-toggleable__control:checked~div.sk-toggleable__content {max-height: 200px;max-width: 100%;overflow: auto;}#sk-container-id-3 input.sk-toggleable__control:checked~label.sk-toggleable__label-arrow:before {content: \"▾\";}#sk-container-id-3 div.sk-estimator input.sk-toggleable__control:checked~label.sk-toggleable__label {background-color: #d4ebff;}#sk-container-id-3 div.sk-label input.sk-toggleable__control:checked~label.sk-toggleable__label {background-color: #d4ebff;}#sk-container-id-3 input.sk-hidden--visually {border: 0;clip: rect(1px 1px 1px 1px);clip: rect(1px, 1px, 1px, 1px);height: 1px;margin: -1px;overflow: hidden;padding: 0;position: absolute;width: 1px;}#sk-container-id-3 div.sk-estimator {font-family: monospace;background-color: #f0f8ff;border: 1px dotted black;border-radius: 0.25em;box-sizing: border-box;margin-bottom: 0.5em;}#sk-container-id-3 div.sk-estimator:hover {background-color: #d4ebff;}#sk-container-id-3 div.sk-parallel-item::after {content: \"\";width: 100%;border-bottom: 1px solid gray;flex-grow: 1;}#sk-container-id-3 div.sk-label:hover label.sk-toggleable__label {background-color: #d4ebff;}#sk-container-id-3 div.sk-serial::before {content: \"\";position: absolute;border-left: 1px solid gray;box-sizing: border-box;top: 0;bottom: 0;left: 50%;z-index: 0;}#sk-container-id-3 div.sk-serial {display: flex;flex-direction: column;align-items: center;background-color: white;padding-right: 0.2em;padding-left: 0.2em;position: relative;}#sk-container-id-3 div.sk-item {position: relative;z-index: 1;}#sk-container-id-3 div.sk-parallel {display: flex;align-items: stretch;justify-content: center;background-color: white;position: relative;}#sk-container-id-3 div.sk-item::before, #sk-container-id-3 div.sk-parallel-item::before {content: \"\";position: absolute;border-left: 1px solid gray;box-sizing: border-box;top: 0;bottom: 0;left: 50%;z-index: -1;}#sk-container-id-3 div.sk-parallel-item {display: flex;flex-direction: column;z-index: 1;position: relative;background-color: white;}#sk-container-id-3 div.sk-parallel-item:first-child::after {align-self: flex-end;width: 50%;}#sk-container-id-3 div.sk-parallel-item:last-child::after {align-self: flex-start;width: 50%;}#sk-container-id-3 div.sk-parallel-item:only-child::after {width: 0;}#sk-container-id-3 div.sk-dashed-wrapped {border: 1px dashed gray;margin: 0 0.4em 0.5em 0.4em;box-sizing: border-box;padding-bottom: 0.4em;background-color: white;}#sk-container-id-3 div.sk-label label {font-family: monospace;font-weight: bold;display: inline-block;line-height: 1.2em;}#sk-container-id-3 div.sk-label-container {text-align: center;}#sk-container-id-3 div.sk-container {/* jupyter's `normalize.less` sets `[hidden] { display: none; }` but bootstrap.min.css set `[hidden] { display: none !important; }` so we also need the `!important` here to be able to override the default hidden behavior on the sphinx rendered scikit-learn.org. See: https://github.com/scikit-learn/scikit-learn/issues/21755 */display: inline-block !important;position: relative;}#sk-container-id-3 div.sk-text-repr-fallback {display: none;}</style><div id=\"sk-container-id-3\" class=\"sk-top-container\"><div class=\"sk-text-repr-fallback\"><pre>MinMaxScaler()</pre><b>In a Jupyter environment, please rerun this cell to show the HTML representation or trust the notebook. <br />On GitHub, the HTML representation is unable to render, please try loading this page with nbviewer.org.</b></div><div class=\"sk-container\" hidden><div class=\"sk-item\"><div class=\"sk-estimator sk-toggleable\"><input class=\"sk-toggleable__control sk-hidden--visually\" id=\"sk-estimator-id-3\" type=\"checkbox\" checked><label for=\"sk-estimator-id-3\" class=\"sk-toggleable__label sk-toggleable__label-arrow\">MinMaxScaler</label><div class=\"sk-toggleable__content\"><pre>MinMaxScaler()</pre></div></div></div></div></div>"
            ]
          },
          "metadata": {},
          "execution_count": 83
        }
      ]
    },
    {
      "cell_type": "code",
      "source": [
        "X_train = mm.transform(X_train)\n",
        "X_test = mm.transform(X_test)"
      ],
      "metadata": {
        "id": "ZjB_QJVpm-aq"
      },
      "execution_count": null,
      "outputs": []
    },
    {
      "cell_type": "code",
      "source": [
        "model = tf.keras.Sequential()"
      ],
      "metadata": {
        "id": "ooCUIK5vm-ei"
      },
      "execution_count": null,
      "outputs": []
    },
    {
      "cell_type": "code",
      "source": [
        "model.add( tf.keras.layers.Input(shape = (8,) ))"
      ],
      "metadata": {
        "id": "1DIr61vvnbmC"
      },
      "execution_count": null,
      "outputs": []
    },
    {
      "cell_type": "code",
      "source": [
        "model.add(tf.keras.layers.Dense(40, activation = 'relu'))"
      ],
      "metadata": {
        "id": "cklrz_Vxnboq"
      },
      "execution_count": null,
      "outputs": []
    },
    {
      "cell_type": "code",
      "source": [
        "model.add( tf.keras.layers.Dense(1, activation = 'relu'))"
      ],
      "metadata": {
        "id": "4HzzJtjvnbr6"
      },
      "execution_count": null,
      "outputs": []
    },
    {
      "cell_type": "code",
      "source": [
        "model.add(tf.keras.layers.Dropout(rate = 0.5 ))"
      ],
      "metadata": {
        "id": "GBTRJTb7nbuS"
      },
      "execution_count": null,
      "outputs": []
    },
    {
      "cell_type": "code",
      "source": [
        "model.add(tf.keras.layers.Dense(20, activation = 'relu'))\n",
        "model.add(tf.keras.layers.Dropout(rate = 0.5 ))"
      ],
      "metadata": {
        "id": "PX0IPldynbwq"
      },
      "execution_count": null,
      "outputs": []
    },
    {
      "cell_type": "code",
      "source": [
        "model.add(tf.keras.layers.Dense(1, activation = 'sigmoid'))"
      ],
      "metadata": {
        "id": "kCHav4ninbyz"
      },
      "execution_count": null,
      "outputs": []
    },
    {
      "cell_type": "code",
      "source": [
        "model.summary()"
      ],
      "metadata": {
        "colab": {
          "base_uri": "https://localhost:8080/"
        },
        "id": "Ie2BcEENnb0t",
        "outputId": "50db1d60-e8e2-4b9c-f364-ca3310f92fa6"
      },
      "execution_count": null,
      "outputs": [
        {
          "output_type": "stream",
          "name": "stdout",
          "text": [
            "Model: \"sequential_4\"\n",
            "_________________________________________________________________\n",
            " Layer (type)                Output Shape              Param #   \n",
            "=================================================================\n",
            " dense_12 (Dense)            (None, 40)                360       \n",
            "                                                                 \n",
            " dense_13 (Dense)            (None, 1)                 41        \n",
            "                                                                 \n",
            " dropout_6 (Dropout)         (None, 1)                 0         \n",
            "                                                                 \n",
            " dense_14 (Dense)            (None, 20)                40        \n",
            "                                                                 \n",
            " dropout_7 (Dropout)         (None, 20)                0         \n",
            "                                                                 \n",
            " dense_15 (Dense)            (None, 1)                 21        \n",
            "                                                                 \n",
            "=================================================================\n",
            "Total params: 462\n",
            "Trainable params: 462\n",
            "Non-trainable params: 0\n",
            "_________________________________________________________________\n"
          ]
        }
      ]
    },
    {
      "cell_type": "code",
      "source": [
        "from tensorflow.keras.utils import plot_model"
      ],
      "metadata": {
        "id": "XWICACY7n91q"
      },
      "execution_count": null,
      "outputs": []
    },
    {
      "cell_type": "code",
      "source": [
        "from keras.utils import plot_model"
      ],
      "metadata": {
        "id": "AS1otXUIn94T"
      },
      "execution_count": null,
      "outputs": []
    },
    {
      "cell_type": "code",
      "source": [
        "model.compile(\n",
        "                 loss = 'binary_crossentropy',\n",
        "                 optimizer = 'adam',  # Try first with default optimizer and then with 'adam'\n",
        "                                      #  may not make much difference\n",
        "                 metrics = ['acc']\n",
        ")"
      ],
      "metadata": {
        "id": "PaytTATRn96z"
      },
      "execution_count": null,
      "outputs": []
    },
    {
      "cell_type": "code",
      "source": [
        "history = model.fit(X_train,y_train,\n",
        "                    epochs = 70,\n",
        "                    validation_data = (X_test, y_test))"
      ],
      "metadata": {
        "colab": {
          "base_uri": "https://localhost:8080/"
        },
        "id": "erGwlU-In99K",
        "outputId": "2521f67d-4b35-418f-dcaf-563be6eed6f7"
      },
      "execution_count": null,
      "outputs": [
        {
          "output_type": "stream",
          "name": "stdout",
          "text": [
            "Epoch 1/70\n",
            "399/399 [==============================] - 3s 5ms/step - loss: -40968.1250 - acc: 0.0000e+00 - val_loss: -82412.7578 - val_acc: 0.0000e+00\n",
            "Epoch 2/70\n",
            "399/399 [==============================] - 1s 3ms/step - loss: -123242.6484 - acc: 0.0000e+00 - val_loss: -164671.1250 - val_acc: 0.0000e+00\n",
            "Epoch 3/70\n",
            "399/399 [==============================] - 1s 3ms/step - loss: -205404.1250 - acc: 0.0000e+00 - val_loss: -247048.9531 - val_acc: 0.0000e+00\n",
            "Epoch 4/70\n",
            "399/399 [==============================] - 1s 3ms/step - loss: -287576.3750 - acc: 0.0000e+00 - val_loss: -329331.7500 - val_acc: 0.0000e+00\n",
            "Epoch 5/70\n",
            "399/399 [==============================] - 1s 2ms/step - loss: -369774.9688 - acc: 0.0000e+00 - val_loss: -411668.5312 - val_acc: 0.0000e+00\n",
            "Epoch 6/70\n",
            "399/399 [==============================] - 1s 4ms/step - loss: -452067.5938 - acc: 0.0000e+00 - val_loss: -494083.4688 - val_acc: 0.0000e+00\n",
            "Epoch 7/70\n",
            "399/399 [==============================] - 2s 4ms/step - loss: -534385.8750 - acc: 0.0000e+00 - val_loss: -576543.3750 - val_acc: 0.0000e+00\n",
            "Epoch 8/70\n",
            "399/399 [==============================] - 2s 4ms/step - loss: -616662.2500 - acc: 0.0000e+00 - val_loss: -658896.6875 - val_acc: 0.0000e+00\n",
            "Epoch 9/70\n",
            "399/399 [==============================] - 1s 3ms/step - loss: -698905.5625 - acc: 0.0000e+00 - val_loss: -741249.2500 - val_acc: 0.0000e+00\n",
            "Epoch 10/70\n",
            "399/399 [==============================] - 1s 2ms/step - loss: -781167.5000 - acc: 0.0000e+00 - val_loss: -823600.5625 - val_acc: 0.0000e+00\n",
            "Epoch 11/70\n",
            "399/399 [==============================] - 1s 3ms/step - loss: -863484.5000 - acc: 0.0000e+00 - val_loss: -906096.6250 - val_acc: 0.0000e+00\n",
            "Epoch 12/70\n",
            "399/399 [==============================] - 1s 2ms/step - loss: -945795.0625 - acc: 0.0000e+00 - val_loss: -988491.6250 - val_acc: 0.0000e+00\n",
            "Epoch 13/70\n",
            "399/399 [==============================] - 1s 2ms/step - loss: -1028055.5000 - acc: 0.0000e+00 - val_loss: -1070908.2500 - val_acc: 0.0000e+00\n",
            "Epoch 14/70\n",
            "399/399 [==============================] - 1s 3ms/step - loss: -1110325.2500 - acc: 0.0000e+00 - val_loss: -1153356.1250 - val_acc: 0.0000e+00\n",
            "Epoch 15/70\n",
            "399/399 [==============================] - 1s 3ms/step - loss: -1192640.1250 - acc: 0.0000e+00 - val_loss: -1235746.0000 - val_acc: 0.0000e+00\n",
            "Epoch 16/70\n",
            "399/399 [==============================] - 1s 3ms/step - loss: -1274899.8750 - acc: 0.0000e+00 - val_loss: -1318016.6250 - val_acc: 0.0000e+00\n",
            "Epoch 17/70\n",
            "399/399 [==============================] - 1s 3ms/step - loss: -1357137.5000 - acc: 0.0000e+00 - val_loss: -1400476.8750 - val_acc: 0.0000e+00\n",
            "Epoch 18/70\n",
            "399/399 [==============================] - 1s 3ms/step - loss: -1439379.0000 - acc: 0.0000e+00 - val_loss: -1482841.5000 - val_acc: 0.0000e+00\n",
            "Epoch 19/70\n",
            "399/399 [==============================] - 2s 4ms/step - loss: -1521642.1250 - acc: 0.0000e+00 - val_loss: -1565255.8750 - val_acc: 0.0000e+00\n",
            "Epoch 20/70\n",
            "399/399 [==============================] - 1s 4ms/step - loss: -1603894.6250 - acc: 0.0000e+00 - val_loss: -1647616.3750 - val_acc: 0.0000e+00\n",
            "Epoch 21/70\n",
            "399/399 [==============================] - 2s 4ms/step - loss: -1686190.5000 - acc: 0.0000e+00 - val_loss: -1730004.6250 - val_acc: 0.0000e+00\n",
            "Epoch 22/70\n",
            "399/399 [==============================] - 1s 2ms/step - loss: -1768532.5000 - acc: 0.0000e+00 - val_loss: -1812424.7500 - val_acc: 0.0000e+00\n",
            "Epoch 23/70\n",
            "399/399 [==============================] - 1s 3ms/step - loss: -1850850.0000 - acc: 0.0000e+00 - val_loss: -1894898.7500 - val_acc: 0.0000e+00\n",
            "Epoch 24/70\n",
            "399/399 [==============================] - 1s 2ms/step - loss: -1933142.8750 - acc: 0.0000e+00 - val_loss: -1977280.3750 - val_acc: 0.0000e+00\n",
            "Epoch 25/70\n",
            "399/399 [==============================] - 1s 3ms/step - loss: -2015470.7500 - acc: 0.0000e+00 - val_loss: -2059709.0000 - val_acc: 0.0000e+00\n",
            "Epoch 26/70\n",
            "399/399 [==============================] - 1s 3ms/step - loss: -2097783.5000 - acc: 0.0000e+00 - val_loss: -2142125.2500 - val_acc: 0.0000e+00\n",
            "Epoch 27/70\n",
            "399/399 [==============================] - 1s 3ms/step - loss: -2180074.0000 - acc: 0.0000e+00 - val_loss: -2224577.5000 - val_acc: 0.0000e+00\n",
            "Epoch 28/70\n",
            "399/399 [==============================] - 1s 3ms/step - loss: -2262367.5000 - acc: 0.0000e+00 - val_loss: -2306989.0000 - val_acc: 0.0000e+00\n",
            "Epoch 29/70\n",
            "399/399 [==============================] - 1s 4ms/step - loss: -2344618.7500 - acc: 0.0000e+00 - val_loss: -2389392.5000 - val_acc: 0.0000e+00\n",
            "Epoch 30/70\n",
            "399/399 [==============================] - 3s 7ms/step - loss: -2426896.2500 - acc: 0.0000e+00 - val_loss: -2471762.5000 - val_acc: 0.0000e+00\n",
            "Epoch 31/70\n",
            "399/399 [==============================] - 2s 6ms/step - loss: -2509167.5000 - acc: 0.0000e+00 - val_loss: -2554127.0000 - val_acc: 0.0000e+00\n",
            "Epoch 32/70\n",
            "399/399 [==============================] - 1s 3ms/step - loss: -2591444.0000 - acc: 0.0000e+00 - val_loss: -2636523.7500 - val_acc: 0.0000e+00\n",
            "Epoch 33/70\n",
            "399/399 [==============================] - 1s 3ms/step - loss: -2673724.2500 - acc: 0.0000e+00 - val_loss: -2718874.2500 - val_acc: 0.0000e+00\n",
            "Epoch 34/70\n",
            "399/399 [==============================] - 1s 2ms/step - loss: -2755971.2500 - acc: 0.0000e+00 - val_loss: -2801277.2500 - val_acc: 0.0000e+00\n",
            "Epoch 35/70\n",
            "399/399 [==============================] - 1s 2ms/step - loss: -2838281.5000 - acc: 0.0000e+00 - val_loss: -2883716.0000 - val_acc: 0.0000e+00\n",
            "Epoch 36/70\n",
            "399/399 [==============================] - 1s 3ms/step - loss: -2920515.5000 - acc: 0.0000e+00 - val_loss: -2965982.2500 - val_acc: 0.0000e+00\n",
            "Epoch 37/70\n",
            "399/399 [==============================] - 1s 3ms/step - loss: -3002734.5000 - acc: 0.0000e+00 - val_loss: -3048372.0000 - val_acc: 0.0000e+00\n",
            "Epoch 38/70\n",
            "399/399 [==============================] - 1s 3ms/step - loss: -3084963.0000 - acc: 0.0000e+00 - val_loss: -3130792.7500 - val_acc: 0.0000e+00\n",
            "Epoch 39/70\n",
            "399/399 [==============================] - 2s 4ms/step - loss: -3167310.5000 - acc: 0.0000e+00 - val_loss: -3213197.7500 - val_acc: 0.0000e+00\n",
            "Epoch 40/70\n",
            "399/399 [==============================] - 1s 3ms/step - loss: -3249612.0000 - acc: 0.0000e+00 - val_loss: -3295679.7500 - val_acc: 0.0000e+00\n",
            "Epoch 41/70\n",
            "399/399 [==============================] - 2s 4ms/step - loss: -3331823.5000 - acc: 0.0000e+00 - val_loss: -3378013.0000 - val_acc: 0.0000e+00\n",
            "Epoch 42/70\n",
            "399/399 [==============================] - 2s 4ms/step - loss: -3414058.0000 - acc: 0.0000e+00 - val_loss: -3460314.7500 - val_acc: 0.0000e+00\n",
            "Epoch 43/70\n",
            "399/399 [==============================] - 2s 4ms/step - loss: -3496391.2500 - acc: 0.0000e+00 - val_loss: -3542822.5000 - val_acc: 0.0000e+00\n",
            "Epoch 44/70\n",
            "399/399 [==============================] - 1s 2ms/step - loss: -3578713.7500 - acc: 0.0000e+00 - val_loss: -3625247.2500 - val_acc: 0.0000e+00\n",
            "Epoch 45/70\n",
            "399/399 [==============================] - 1s 3ms/step - loss: -3660971.7500 - acc: 0.0000e+00 - val_loss: -3707528.2500 - val_acc: 0.0000e+00\n",
            "Epoch 46/70\n",
            "399/399 [==============================] - 1s 3ms/step - loss: -3743261.5000 - acc: 0.0000e+00 - val_loss: -3789994.2500 - val_acc: 0.0000e+00\n",
            "Epoch 47/70\n",
            "399/399 [==============================] - 1s 3ms/step - loss: -3825499.7500 - acc: 0.0000e+00 - val_loss: -3872354.2500 - val_acc: 0.0000e+00\n",
            "Epoch 48/70\n",
            "399/399 [==============================] - 1s 2ms/step - loss: -3907760.7500 - acc: 0.0000e+00 - val_loss: -3954754.0000 - val_acc: 0.0000e+00\n",
            "Epoch 49/70\n",
            "399/399 [==============================] - 1s 3ms/step - loss: -3990076.7500 - acc: 0.0000e+00 - val_loss: -4037180.7500 - val_acc: 0.0000e+00\n",
            "Epoch 50/70\n",
            "399/399 [==============================] - 1s 3ms/step - loss: -4072375.5000 - acc: 0.0000e+00 - val_loss: -4119513.5000 - val_acc: 0.0000e+00\n",
            "Epoch 51/70\n",
            "399/399 [==============================] - 1s 2ms/step - loss: -4154634.7500 - acc: 0.0000e+00 - val_loss: -4201947.0000 - val_acc: 0.0000e+00\n",
            "Epoch 52/70\n",
            "399/399 [==============================] - 1s 3ms/step - loss: -4236845.0000 - acc: 0.0000e+00 - val_loss: -4284296.5000 - val_acc: 0.0000e+00\n",
            "Epoch 53/70\n",
            "399/399 [==============================] - 2s 4ms/step - loss: -4319075.0000 - acc: 0.0000e+00 - val_loss: -4366636.0000 - val_acc: 0.0000e+00\n",
            "Epoch 54/70\n",
            "399/399 [==============================] - 2s 4ms/step - loss: -4401304.5000 - acc: 0.0000e+00 - val_loss: -4448981.0000 - val_acc: 0.0000e+00\n",
            "Epoch 55/70\n",
            "399/399 [==============================] - 2s 4ms/step - loss: -4483651.0000 - acc: 0.0000e+00 - val_loss: -4531490.5000 - val_acc: 0.0000e+00\n",
            "Epoch 56/70\n",
            "399/399 [==============================] - 1s 3ms/step - loss: -4565891.0000 - acc: 0.0000e+00 - val_loss: -4613828.5000 - val_acc: 0.0000e+00\n",
            "Epoch 57/70\n",
            "399/399 [==============================] - 1s 2ms/step - loss: -4648136.0000 - acc: 0.0000e+00 - val_loss: -4696158.0000 - val_acc: 0.0000e+00\n",
            "Epoch 58/70\n",
            "399/399 [==============================] - 1s 2ms/step - loss: -4730445.5000 - acc: 0.0000e+00 - val_loss: -4778609.5000 - val_acc: 0.0000e+00\n",
            "Epoch 59/70\n",
            "399/399 [==============================] - 1s 3ms/step - loss: -4812738.0000 - acc: 0.0000e+00 - val_loss: -4860990.0000 - val_acc: 0.0000e+00\n",
            "Epoch 60/70\n",
            "399/399 [==============================] - 1s 3ms/step - loss: -4895005.0000 - acc: 0.0000e+00 - val_loss: -4943414.5000 - val_acc: 0.0000e+00\n",
            "Epoch 61/70\n",
            "399/399 [==============================] - 1s 3ms/step - loss: -4977293.5000 - acc: 0.0000e+00 - val_loss: -5025816.0000 - val_acc: 0.0000e+00\n",
            "Epoch 62/70\n",
            "399/399 [==============================] - 1s 3ms/step - loss: -5059613.5000 - acc: 0.0000e+00 - val_loss: -5108317.0000 - val_acc: 0.0000e+00\n",
            "Epoch 63/70\n",
            "399/399 [==============================] - 2s 6ms/step - loss: -5141870.0000 - acc: 0.0000e+00 - val_loss: -5190551.0000 - val_acc: 0.0000e+00\n",
            "Epoch 64/70\n",
            "399/399 [==============================] - 2s 6ms/step - loss: -5224118.0000 - acc: 0.0000e+00 - val_loss: -5273004.0000 - val_acc: 0.0000e+00\n",
            "Epoch 65/70\n",
            "399/399 [==============================] - 1s 4ms/step - loss: -5306386.5000 - acc: 0.0000e+00 - val_loss: -5355445.0000 - val_acc: 0.0000e+00\n",
            "Epoch 66/70\n",
            "399/399 [==============================] - 1s 3ms/step - loss: -5388643.5000 - acc: 0.0000e+00 - val_loss: -5437680.0000 - val_acc: 0.0000e+00\n",
            "Epoch 67/70\n",
            "399/399 [==============================] - 1s 3ms/step - loss: -5470908.5000 - acc: 0.0000e+00 - val_loss: -5520139.0000 - val_acc: 0.0000e+00\n",
            "Epoch 68/70\n",
            "399/399 [==============================] - 1s 2ms/step - loss: -5553194.0000 - acc: 0.0000e+00 - val_loss: -5602540.5000 - val_acc: 0.0000e+00\n",
            "Epoch 69/70\n",
            "399/399 [==============================] - 1s 3ms/step - loss: -5635468.5000 - acc: 0.0000e+00 - val_loss: -5684945.0000 - val_acc: 0.0000e+00\n",
            "Epoch 70/70\n",
            "399/399 [==============================] - 1s 2ms/step - loss: -5717765.0000 - acc: 0.0000e+00 - val_loss: -5767348.5000 - val_acc: 0.0000e+00\n"
          ]
        }
      ]
    },
    {
      "cell_type": "code",
      "source": [
        "# 7.1\n",
        "model.evaluate(X_test,y_test)"
      ],
      "metadata": {
        "colab": {
          "base_uri": "https://localhost:8080/"
        },
        "id": "1CCkdRbbn9_i",
        "outputId": "4bd60961-effe-4ebb-fa8f-e7b9b267b8bc"
      },
      "execution_count": null,
      "outputs": [
        {
          "output_type": "stream",
          "name": "stdout",
          "text": [
            "133/133 [==============================] - 0s 2ms/step - loss: -5767348.5000 - acc: 0.0000e+00\n"
          ]
        },
        {
          "output_type": "execute_result",
          "data": {
            "text/plain": [
              "[-5767348.5, 0.0]"
            ]
          },
          "metadata": {},
          "execution_count": 97
        }
      ]
    },
    {
      "cell_type": "code",
      "source": [
        "type(history.history)"
      ],
      "metadata": {
        "colab": {
          "base_uri": "https://localhost:8080/"
        },
        "id": "UsJ0lUxkn-Bd",
        "outputId": "5f934a47-cb3f-4e06-cd4d-abe44b7fbb35"
      },
      "execution_count": null,
      "outputs": [
        {
          "output_type": "execute_result",
          "data": {
            "text/plain": [
              "dict"
            ]
          },
          "metadata": {},
          "execution_count": 98
        }
      ]
    },
    {
      "cell_type": "code",
      "source": [
        "history.history.keys()"
      ],
      "metadata": {
        "colab": {
          "base_uri": "https://localhost:8080/"
        },
        "id": "RDtfBL8apMDZ",
        "outputId": "151d0580-69ec-4f32-9ecc-19722ce66ca2"
      },
      "execution_count": null,
      "outputs": [
        {
          "output_type": "execute_result",
          "data": {
            "text/plain": [
              "dict_keys(['loss', 'acc', 'val_loss', 'val_acc'])"
            ]
          },
          "metadata": {},
          "execution_count": 99
        }
      ]
    },
    {
      "cell_type": "code",
      "source": [
        "import matplotlib.pyplot as plt\n",
        "loss = history.history['loss']\n",
        "val_loss = history.history['val_loss']\n",
        "plt.plot(loss)\n",
        "plt.plot(val_loss)"
      ],
      "metadata": {
        "colab": {
          "base_uri": "https://localhost:8080/",
          "height": 462
        },
        "id": "o55pEQ20pMFQ",
        "outputId": "077c8095-74df-415d-ec9a-3678b7723b6a"
      },
      "execution_count": null,
      "outputs": [
        {
          "output_type": "execute_result",
          "data": {
            "text/plain": [
              "[<matplotlib.lines.Line2D at 0x7c5127ff0460>]"
            ]
          },
          "metadata": {},
          "execution_count": 101
        },
        {
          "output_type": "execute_result",
          "data": {
            "text/plain": [
              "[<matplotlib.lines.Line2D at 0x7c5127ff1b10>]"
            ]
          },
          "metadata": {},
          "execution_count": 101
        },
        {
          "output_type": "display_data",
          "data": {
            "text/plain": [
              "<Figure size 640x480 with 1 Axes>"
            ],
            "image/png": "[encoded data removed]"
          },
          "metadata": {}
        }
      ]
    },
    {
      "cell_type": "code",
      "source": [
        "loss = history.history['loss']\n",
        "val_loss = history.history['val_loss']\n",
        "plt.plot(loss, label = \"train_loss\")\n",
        "plt.plot(val_loss, label = \"val loss\")\n",
        "plt.legend()"
      ],
      "metadata": {
        "colab": {
          "base_uri": "https://localhost:8080/",
          "height": 480
        },
        "id": "ZPAff13WpMHR",
        "outputId": "27c61efd-2331-4833-ff29-7cc32e5b1f85"
      },
      "execution_count": null,
      "outputs": [
        {
          "output_type": "execute_result",
          "data": {
            "text/plain": [
              "[<matplotlib.lines.Line2D at 0x7c5128f1c220>]"
            ]
          },
          "metadata": {},
          "execution_count": 103
        },
        {
          "output_type": "execute_result",
          "data": {
            "text/plain": [
              "[<matplotlib.lines.Line2D at 0x7c5128f1c3d0>]"
            ]
          },
          "metadata": {},
          "execution_count": 103
        },
        {
          "output_type": "execute_result",
          "data": {
            "text/plain": [
              "<matplotlib.legend.Legend at 0x7c5127f9efb0>"
            ]
          },
          "metadata": {},
          "execution_count": 103
        },
        {
          "output_type": "display_data",
          "data": {
            "text/plain": [
              "<Figure size 640x480 with 1 Axes>"
            ],
            "image/png": "[encoded data removed]"
          },
          "metadata": {}
        }
      ]
    },
    {
      "cell_type": "code",
      "source": [
        "plot_model(model, show_shapes=True)"
      ],
      "metadata": {
        "id": "571yy8LppMI6",
        "outputId": "b710cde2-bf97-4e17-8896-df51df369b80",
        "colab": {
          "base_uri": "https://localhost:8080/",
          "height": 754
        }
      },
      "execution_count": 105,
      "outputs": [
        {
          "output_type": "execute_result",
          "data": {
            "image/png": "[encoded data removed]",
            "text/plain": [
              "<IPython.core.display.Image object>"
            ]
          },
          "metadata": {},
          "execution_count": 105
        }
      ]
    }
  ]
}